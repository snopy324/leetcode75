{
 "cells": [
  {
   "cell_type": "code",
   "execution_count": null,
   "metadata": {
    "dotnet_interactive": {
     "language": "csharp"
    },
    "polyglot_notebook": {
     "kernelName": "csharp"
    },
    "vscode": {
     "languageId": "polyglot-notebook"
    }
   },
   "outputs": [],
   "source": [
    "public static class  C {\n",
    "    public static void Print(object o){\n",
    "        // check if o is value type or ref type\n",
    "        if(o.GetType().IsValueType){\n",
    "            Console.WriteLine(o);        \n",
    "        } else {\n",
    "            Console.WriteLine(System.Text.Json.JsonSerializer.Serialize(o));\n",
    "        }\n",
    "    }\n",
    "}"
   ]
  },
  {
   "cell_type": "code",
   "execution_count": null,
   "metadata": {
    "dotnet_interactive": {
     "language": "csharp"
    },
    "polyglot_notebook": {
     "kernelName": "csharp"
    },
    "vscode": {
     "languageId": "polyglot-notebook"
    }
   },
   "outputs": [],
   "source": [
    "public class Solution {\n",
    "    public bool IsValid(string s) {\n",
    "        var symbol = new Stack<char>();\n",
    "        foreach(var c in s){\n",
    "            Console.WriteLine(System.Text.Json.JsonSerializer.Serialize(symbol));\n",
    "            if(c == '(' || c == '[' || c == '{') {\n",
    "                symbol.Push(c);\n",
    "                continue;\n",
    "            }else{\n",
    "                if(symbol.TryPop(out char pre)) {\n",
    "                    if(pre == '(' && c==')' || pre == '[' && c==']' || pre == '{' && c=='}' ){\n",
    "                        continue;\n",
    "                    }\n",
    "                }\n",
    "            }\n",
    "            return false;\n",
    "        }\n",
    "        \n",
    "        return symbol.Count == 0;\n",
    "    }\n",
    "}\n",
    "\n",
    "var s = new Solution();\n",
    "s.IsValid(\"()[]{}\")"
   ]
  },
  {
   "cell_type": "code",
   "execution_count": null,
   "metadata": {
    "dotnet_interactive": {
     "language": "csharp"
    },
    "polyglot_notebook": {
     "kernelName": "csharp"
    },
    "vscode": {
     "languageId": "polyglot-notebook"
    }
   },
   "outputs": [],
   "source": [
    "public class MinStack {\n",
    "    private List<int> storage;\n",
    "    private Stack<int> min_stack;\n",
    "    \n",
    "    public MinStack() {\n",
    "        this.storage = new List<int>();\n",
    "        this.min_stack = new Stack<int>();\n",
    "    }\n",
    "    \n",
    "    public void Push(int val) {\n",
    "        storage.Add(val);\n",
    "        var m = this.GetMin();\n",
    "        if(val < m) min_stack.Push(storage.Count - 1);\n",
    "    }\n",
    "    \n",
    "    public void Pop() {\n",
    "        if((storage.Count - 1) == min_stack.Peek()){\n",
    "            min_stack.Pop();\n",
    "        }\n",
    "        storage.RemoveAt(storage.Count -1);\n",
    "    }\n",
    "    \n",
    "    public int Top() {\n",
    "        return storage[storage.Count - 1];\n",
    "    }\n",
    "    \n",
    "    public int GetMin() {\n",
    "        if(min_stack.Count == 0) return int.MaxValue;\n",
    "        \n",
    "        return storage[min_stack.Peek()];\n",
    "    }\n",
    "}\n",
    "\n",
    "\n",
    "var s = new MinStack();\n",
    "s.Push(-2);\n",
    "s.Push(0);\n",
    "s.Push(-3);\n",
    "Console.WriteLine(\"s.GetMin()\");\n",
    "Console.WriteLine(s.GetMin());\n",
    "s.Pop();\n",
    "Console.WriteLine(s.Top());\n",
    "Console.WriteLine(\"s.GetMin()\");\n",
    "Console.WriteLine(s.GetMin());\n",
    "\n",
    "// [\"MinStack\",\"push\",\"push\",\"push\",\"getMin\",\"pop\",\"top\",\"getMin\"]\n",
    "// [[],[-2],[0],[-3],[],[],[],[]]\n",
    "/**\n",
    " * Your MinStack object will be instantiated and called as such:\n",
    " * MinStack obj = new MinStack();\n",
    " * obj.Push(val);\n",
    " * obj.Pop();\n",
    " * int param_3 = obj.Top();\n",
    " * int param_4 = obj.GetMin();\n",
    " */"
   ]
  },
  {
   "cell_type": "code",
   "execution_count": null,
   "metadata": {
    "dotnet_interactive": {
     "language": "csharp"
    },
    "polyglot_notebook": {
     "kernelName": "csharp"
    },
    "vscode": {
     "languageId": "polyglot-notebook"
    }
   },
   "outputs": [],
   "source": [
    "public class Solution {\n",
    "    public int EvalRPN(string[] tokens) {\n",
    "        var nums = new Stack<int>();\n",
    "        foreach(var str in tokens){\n",
    "            if(str == \"+\") nums.Push(nums.Pop()+nums.Pop());\n",
    "            else if(str == \"-\"){\n",
    "                var pre = nums.Pop();\n",
    "                nums.Push(nums.Pop()-pre);\n",
    "            }\n",
    "            else if(str == \"*\")nums.Push(nums.Pop()*nums.Pop());\n",
    "            else if(str == \"/\"){\n",
    "                var pre = nums.Pop();\n",
    "                nums.Push(nums.Pop()/pre);\n",
    "            }\n",
    "            else nums.Push(int.Parse(str));\n",
    "        }\n",
    "\n",
    "        return nums.Peek();\n",
    "    }\n",
    "}"
   ]
  },
  {
   "cell_type": "code",
   "execution_count": null,
   "metadata": {
    "dotnet_interactive": {
     "language": "csharp"
    },
    "polyglot_notebook": {
     "kernelName": "csharp"
    },
    "vscode": {
     "languageId": "polyglot-notebook"
    }
   },
   "outputs": [],
   "source": [
    "public class Solution {\n",
    "    public IList<string> GenerateParenthesis(int n) {\n",
    "        var res = new List<string>();\n",
    "        void Next(string present, int open, int close){\n",
    "            if(open == n && close == n) {\n",
    "                res.Add(present);\n",
    "                return;    \n",
    "            }\n",
    "\n",
    "            if(open > close && open < n){\n",
    "                Next(present + '(', open + 1, close);\n",
    "                Next(present + ')', open, close + 1);\n",
    "                return;\n",
    "            }\n",
    "\n",
    "            if(open == close && open < n){\n",
    "                Next(present + '(', open + 1, close);\n",
    "                return;\n",
    "            }\n",
    "\n",
    "            if(open == n){\n",
    "                Next(present + ')', open, close + 1);\n",
    "                return;\n",
    "            }\n",
    "        }\n",
    "        return res;\n",
    "    }\n",
    "\n",
    "}\n",
    "\n",
    "var s = new Solution();\n",
    "s.GenerateParenthesis(3)"
   ]
  }
 ],
 "metadata": {
  "language_info": {
   "name": "python"
  }
 },
 "nbformat": 4,
 "nbformat_minor": 2
}
